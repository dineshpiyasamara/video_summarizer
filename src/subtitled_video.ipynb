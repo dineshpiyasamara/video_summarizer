{
  "cells": [
    {
      "cell_type": "code",
      "execution_count": 25,
      "metadata": {
        "id": "YCqlPS17SAUD"
      },
      "outputs": [],
      "source": [
        "!pip install moviepy==2.0.0.dev2 -q\n",
        "!pip install imageio==2.25.1 -q\n",
        "!pip install pysrt==1.1.2 -q"
      ]
    },
    {
      "cell_type": "code",
      "execution_count": 26,
      "metadata": {
        "id": "YEbRDjOplNQB",
        "outputId": "3f5ce7a7-3cd9-4fdd-84d4-5e8775813306",
        "colab": {
          "base_uri": "https://localhost:8080/"
        }
      },
      "outputs": [
        {
          "output_type": "stream",
          "name": "stdout",
          "text": [
            "Reading package lists...\n",
            "Building dependency tree...\n",
            "Reading state information...\n",
            "imagemagick is already the newest version (8:6.9.11.60+dfsg-1.3ubuntu0.22.04.5).\n",
            "0 upgraded, 0 newly installed, 0 to remove and 49 not upgraded.\n"
          ]
        }
      ],
      "source": [
        "!apt install imagemagick -q"
      ]
    },
    {
      "cell_type": "code",
      "execution_count": 27,
      "metadata": {
        "id": "Qq1-cjkilSif"
      },
      "outputs": [],
      "source": [
        "!cat /etc/ImageMagick-6/policy.xml | sed 's/none/read,write/g'> /etc/ImageMagick-6/policy.xml"
      ]
    },
    {
      "cell_type": "code",
      "execution_count": 28,
      "metadata": {
        "id": "vRmOf6hDmVMJ"
      },
      "outputs": [],
      "source": [
        "srtfilename = \"/content/subtitle_example.srt\"\n",
        "mp4filename = \"/content/BigDataTutorialForBeginnersWhatIsBigDataBigDataTutorialHadoopTrainingEdurekamp_highlights.mp4\""
      ]
    },
    {
      "cell_type": "markdown",
      "source": [],
      "metadata": {
        "id": "7XFwVzXXayXt"
      }
    },
    {
      "cell_type": "code",
      "execution_count": 30,
      "metadata": {
        "id": "ECMvgOr-oI3O",
        "outputId": "83b639ee-5f7e-433d-ca8d-4fd6ff491837",
        "colab": {
          "base_uri": "https://localhost:8080/"
        }
      },
      "outputs": [
        {
          "output_type": "stream",
          "name": "stdout",
          "text": [
            "Moviepy - Building video /content/BigDataTutorialForBeginnersWhatIsBigDataBigDataTutorialHadoopTrainingEdurekamp_highlights_subtitled.mp4.\n",
            "MoviePy - Writing audio in BigDataTutorialForBeginnersWhatIsBigDataBigDataTutorialHadoopTrainingEdurekamp_highlights_subtitledTEMP_MPY_wvf_snd.mp3\n"
          ]
        },
        {
          "output_type": "stream",
          "name": "stderr",
          "text": []
        },
        {
          "output_type": "stream",
          "name": "stdout",
          "text": [
            "MoviePy - Done.\n",
            "Moviepy - Writing video /content/BigDataTutorialForBeginnersWhatIsBigDataBigDataTutorialHadoopTrainingEdurekamp_highlights_subtitled.mp4\n",
            "\n"
          ]
        },
        {
          "output_type": "stream",
          "name": "stderr",
          "text": []
        },
        {
          "output_type": "stream",
          "name": "stdout",
          "text": [
            "Moviepy - Done !\n",
            "Moviepy - video ready /content/BigDataTutorialForBeginnersWhatIsBigDataBigDataTutorialHadoopTrainingEdurekamp_highlights_subtitled.mp4\n"
          ]
        }
      ],
      "source": [
        "import sys\n",
        "import pysrt\n",
        "from moviepy.editor import VideoFileClip, TextClip, CompositeVideoClip, AudioFileClip, CompositeAudioClip\n",
        "\n",
        "\n",
        "def time_to_seconds(time_obj):\n",
        "    return time_obj.hours * 3600 + time_obj.minutes * 60 + time_obj.seconds + time_obj.milliseconds / 1000\n",
        "\n",
        "\n",
        "def create_subtitle_clips(subtitles, videosize,fontsize=24, font='Arial', color='yellow', debug = False):\n",
        "    subtitle_clips = []\n",
        "\n",
        "    for subtitle in subtitles:\n",
        "        start_time = time_to_seconds(subtitle.start)\n",
        "        end_time = time_to_seconds(subtitle.end)\n",
        "        duration = end_time - start_time\n",
        "\n",
        "        video_width, video_height = videosize\n",
        "\n",
        "        text_clip = TextClip(subtitle.text, fontsize=fontsize, font=font, color=color, bg_color = 'black',size=(video_width*3/4, None), method='caption').set_start(start_time).set_duration(duration)\n",
        "        subtitle_x_position = 'center'\n",
        "        subtitle_y_position = video_height* 4 / 5\n",
        "\n",
        "        text_position = (subtitle_x_position, subtitle_y_position)\n",
        "        subtitle_clips.append(text_clip.set_position(text_position))\n",
        "\n",
        "    return subtitle_clips\n",
        "\n",
        "\n",
        "video = VideoFileClip(mp4filename)\n",
        "subtitles = pysrt.open(srtfilename)\n",
        "begin,end= mp4filename.split(\".mp4\")\n",
        "output_video_file = begin+'_subtitled'+\".mp4\"\n",
        "\n",
        "audioclip = AudioFileClip(\"audio_short.wav\")\n",
        "\n",
        "new_audioclip = CompositeAudioClip([audioclip])\n",
        "video.audio = new_audioclip\n",
        "\n",
        "# audio_file = AudioFileClip(\"video.mp4\")\n",
        "\n",
        "subtitle_clips = create_subtitle_clips(subtitles,video.size)\n",
        "\n",
        "final_video = CompositeVideoClip([video] + subtitle_clips)\n",
        "\n",
        "final_video.write_videofile(output_video_file)\n"
      ]
    },
    {
      "cell_type": "code",
      "source": [],
      "metadata": {
        "id": "IHJLtrT256uC"
      },
      "execution_count": null,
      "outputs": []
    }
  ],
  "metadata": {
    "colab": {
      "provenance": []
    },
    "kernelspec": {
      "display_name": "Python 3",
      "name": "python3"
    },
    "language_info": {
      "name": "python"
    }
  },
  "nbformat": 4,
  "nbformat_minor": 0
}